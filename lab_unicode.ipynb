{
 "cells": [
  {
   "cell_type": "markdown",
   "metadata": {},
   "source": [
    "# Vietnamese Unicode\n",
    "\n",
    "This lab intend to give a demonstration about Vietname unicode normalization problems."
   ]
  },
  {
   "cell_type": "code",
   "execution_count": 1,
   "metadata": {
    "collapsed": false
   },
   "outputs": [],
   "source": [
    "def analyze_characters(s):\n",
    "    \"\"\" core function: analyze characters\n",
    "    print utf8 number and unicode number of each characters in text\n",
    "\n",
    "    :param unicode s: input string\n",
    "    :type s: unicode \n",
    "    \"\"\"\n",
    "    print u\"        utf8    unicode\"\n",
    "    for i in s:\n",
    "        unicode_number = hex(ord(i))[2:].zfill(4)\n",
    "        utf8_number = i.encode(\"utf-8\").encode(\"hex\")\n",
    "        if utf8_number in [\"cc80\", \"cc82\", \"cc83\", \"cca3\"]:\n",
    "            format_string = u\"{:3s} -> {:>6s} -> {:>7s}\"\n",
    "        else:\n",
    "            format_string = u\"{:2s} -> {:>6s} -> {:>7s}\"\n",
    "        print format_string.format(i, utf8_number, unicode_number)"
   ]
  },
  {
   "cell_type": "markdown",
   "metadata": {},
   "source": [
    "## Unicode tổ hợp và unicode dựng sẵn"
   ]
  },
  {
   "cell_type": "code",
   "execution_count": 2,
   "metadata": {
    "collapsed": false
   },
   "outputs": [
    {
     "name": "stdout",
     "output_type": "stream",
     "text": [
      "        utf8    unicode\n",
      "c  ->     63 ->    0063\n",
      "o  ->     6f ->    006f\n",
      "̣   ->   cca3 ->    0323\n",
      "̂   ->   cc82 ->    0302\n",
      "n  ->     6e ->    006e\n",
      "g  ->     67 ->    0067\n",
      "   ->     20 ->    0020\n",
      "h  ->     68 ->    0068\n",
      "o  ->     6f ->    006f\n",
      "̀   ->   cc80 ->    0300\n",
      "a  ->     61 ->    0061\n",
      "   ->     20 ->    0020\n",
      "x  ->     78 ->    0078\n",
      "a  ->     61 ->    0061\n",
      "̃   ->   cc83 ->    0303\n",
      "   ->     20 ->    0020\n",
      "h  ->     68 ->    0068\n",
      "o  ->     6f ->    006f\n",
      "̣   ->   cca3 ->    0323\n",
      "̂   ->   cc82 ->    0302\n",
      "i  ->     69 ->    0069\n"
     ]
    }
   ],
   "source": [
    "# unicode tổ hợp\n",
    "s = u\"cộng hòa xã hội\"\n",
    "analyze_characters(s)"
   ]
  },
  {
   "cell_type": "code",
   "execution_count": 3,
   "metadata": {
    "collapsed": false
   },
   "outputs": [
    {
     "name": "stdout",
     "output_type": "stream",
     "text": [
      "        utf8    unicode\n",
      "c  ->     63 ->    0063\n",
      "ộ  -> e1bb99 ->    1ed9\n",
      "n  ->     6e ->    006e\n",
      "g  ->     67 ->    0067\n",
      "   ->     20 ->    0020\n",
      "h  ->     68 ->    0068\n",
      "ò  ->   c3b2 ->    00f2\n",
      "a  ->     61 ->    0061\n",
      "   ->     20 ->    0020\n",
      "x  ->     78 ->    0078\n",
      "ã  ->   c3a3 ->    00e3\n",
      "   ->     20 ->    0020\n",
      "h  ->     68 ->    0068\n",
      "ộ  -> e1bb99 ->    1ed9\n",
      "i  ->     69 ->    0069\n"
     ]
    }
   ],
   "source": [
    "# unicode dựng sẵn\n",
    "s = u\"cộng hòa xã hội\"\n",
    "analyze_characters(s)"
   ]
  },
  {
   "cell_type": "markdown",
   "metadata": {},
   "source": [
    "# After normalization"
   ]
  },
  {
   "cell_type": "code",
   "execution_count": 4,
   "metadata": {
    "collapsed": false
   },
   "outputs": [
    {
     "name": "stdout",
     "output_type": "stream",
     "text": [
      "        utf8    unicode\n",
      "c  ->     63 ->    0063\n",
      "o  ->     6f ->    006f\n",
      "̣   ->   cca3 ->    0323\n",
      "̂   ->   cc82 ->    0302\n",
      "n  ->     6e ->    006e\n",
      "g  ->     67 ->    0067\n",
      "   ->     20 ->    0020\n",
      "h  ->     68 ->    0068\n",
      "o  ->     6f ->    006f\n",
      "̀   ->   cc80 ->    0300\n",
      "a  ->     61 ->    0061\n",
      "   ->     20 ->    0020\n",
      "x  ->     78 ->    0078\n",
      "a  ->     61 ->    0061\n",
      "̃   ->   cc83 ->    0303\n",
      "   ->     20 ->    0020\n",
      "h  ->     68 ->    0068\n",
      "o  ->     6f ->    006f\n",
      "̣   ->   cca3 ->    0323\n",
      "̂   ->   cc82 ->    0302\n",
      "i  ->     69 ->    0069\n"
     ]
    }
   ],
   "source": [
    "import unicodedata\n",
    "\n",
    "# unicode tổ hợp\n",
    "s = u\"cộng hòa xã hội\"\n",
    "\n",
    "analyze_characters(s)"
   ]
  },
  {
   "cell_type": "code",
   "execution_count": 5,
   "metadata": {
    "collapsed": false
   },
   "outputs": [
    {
     "name": "stdout",
     "output_type": "stream",
     "text": [
      "        utf8    unicode\n",
      "c  ->     63 ->    0063\n",
      "ộ  -> e1bb99 ->    1ed9\n",
      "n  ->     6e ->    006e\n",
      "g  ->     67 ->    0067\n",
      "   ->     20 ->    0020\n",
      "h  ->     68 ->    0068\n",
      "ò  ->   c3b2 ->    00f2\n",
      "a  ->     61 ->    0061\n",
      "   ->     20 ->    0020\n",
      "x  ->     78 ->    0078\n",
      "ã  ->   c3a3 ->    00e3\n",
      "   ->     20 ->    0020\n",
      "h  ->     68 ->    0068\n",
      "ộ  -> e1bb99 ->    1ed9\n",
      "i  ->     69 ->    0069\n"
     ]
    }
   ],
   "source": [
    "analyze_characters(unicodedata.normalize(\"NFC\", s))"
   ]
  },
  {
   "cell_type": "code",
   "execution_count": 6,
   "metadata": {
    "collapsed": false
   },
   "outputs": [
    {
     "name": "stdout",
     "output_type": "stream",
     "text": [
      "        utf8    unicode\n",
      "c  ->     63 ->    0063\n",
      "o  ->     6f ->    006f\n",
      "̣   ->   cca3 ->    0323\n",
      "̂   ->   cc82 ->    0302\n",
      "n  ->     6e ->    006e\n",
      "g  ->     67 ->    0067\n",
      "   ->     20 ->    0020\n",
      "h  ->     68 ->    0068\n",
      "o  ->     6f ->    006f\n",
      "̀   ->   cc80 ->    0300\n",
      "a  ->     61 ->    0061\n",
      "   ->     20 ->    0020\n",
      "x  ->     78 ->    0078\n",
      "a  ->     61 ->    0061\n",
      "̃   ->   cc83 ->    0303\n",
      "   ->     20 ->    0020\n",
      "h  ->     68 ->    0068\n",
      "o  ->     6f ->    006f\n",
      "̣   ->   cca3 ->    0323\n",
      "̂   ->   cc82 ->    0302\n",
      "i  ->     69 ->    0069\n"
     ]
    }
   ],
   "source": [
    "analyze_characters(unicodedata.normalize(\"NFD\", s))"
   ]
  },
  {
   "cell_type": "code",
   "execution_count": 7,
   "metadata": {
    "collapsed": false
   },
   "outputs": [
    {
     "ename": "NameError",
     "evalue": "name 'utf8_code' is not defined",
     "traceback": [
      "\u001b[0;31m---------------------------------------------------------------------------\u001b[0m",
      "\u001b[0;31mNameError\u001b[0m                                 Traceback (most recent call last)",
      "\u001b[0;32m<ipython-input-7-af32954b3bbb>\u001b[0m in \u001b[0;36m<module>\u001b[0;34m()\u001b[0m\n\u001b[0;32m----> 1\u001b[0;31m \u001b[0mutf8_code\u001b[0m\u001b[1;33m(\u001b[0m\u001b[0municodedata\u001b[0m\u001b[1;33m.\u001b[0m\u001b[0mnormalize\u001b[0m\u001b[1;33m(\u001b[0m\u001b[1;34m\"NFKC\"\u001b[0m\u001b[1;33m,\u001b[0m \u001b[0ms\u001b[0m\u001b[1;33m)\u001b[0m\u001b[1;33m)\u001b[0m\u001b[1;33m\u001b[0m\u001b[0m\n\u001b[0m",
      "\u001b[0;31mNameError\u001b[0m: name 'utf8_code' is not defined"
     ],
     "output_type": "error"
    }
   ],
   "source": [
    "utf8_code(unicodedata.normalize(\"NFKC\", s))"
   ]
  },
  {
   "cell_type": "code",
   "execution_count": null,
   "metadata": {
    "collapsed": false
   },
   "outputs": [],
   "source": [
    "analyze_characters(unicodedata.normalize(\"NFKD\", s))"
   ]
  },
  {
   "cell_type": "markdown",
   "metadata": {},
   "source": [
    "## One symbol, many characters"
   ]
  },
  {
   "cell_type": "markdown",
   "metadata": {},
   "source": [
    "Letter <b>`Đ`</b> has many characters in unicode\n",
    "\n",
    "<table class=\"table\">\n",
    "<tr>\n",
    "<td><b>Character</b></td>\n",
    "<td><b>UTF-Code</b></td>\n",
    "<td><b>Unicode</b></td>\n",
    "</tr>\n",
    "<tr>\n",
    "<td>Ð</td>\n",
    "<td>C3 90</td>\n",
    "<td><a href=\"https://unicode-table.com/en/00D0/\">U+00D0</a></td>\n",
    "</tr>\n",
    "<tr>\n",
    "<td>Đ</td>\n",
    "<td>C4 90</td>\n",
    "<td><a href=\"https://unicode-table.com/en/0110/\">U+0110</a></td>\n",
    "</tr>\n",
    "<tr>\n",
    "<td>Ɖ</td>\n",
    "<td>C6 89</td>\n",
    "<td><a href=\"https://unicode-table.com/en/0189/\">U+0189</a></td>\n",
    "</tr>\n",
    "<tr>\n",
    "<td>ᴆ</td>\n",
    "<td>E1 B4 86</td>\n",
    "<td><a href=\"https://unicode-table.com/en/1D06/\">U+1D06</a></td>\n",
    "</tr>\n",
    "</table>"
   ]
  },
  {
   "cell_type": "code",
   "execution_count": null,
   "metadata": {
    "collapsed": false
   },
   "outputs": [],
   "source": [
    "text = u\"ÐĐƉᴆ\"\n",
    "analyze_characters(text)"
   ]
  },
  {
   "cell_type": "code",
   "execution_count": null,
   "metadata": {
    "collapsed": false
   },
   "outputs": [],
   "source": [
    "def map_character_to_tcvn(c):\n",
    "    inverse_mapping_table = {\n",
    "        # c390\n",
    "        \"Ð\": [\n",
    "            \"Đ\" # c490\n",
    "        ]\n",
    "    }\n",
    "    mapping_table = {}\n",
    "    for key, characters in inverse_mapping_table.iteritems():\n",
    "        for character in characters:\n",
    "           mapping_table[character]  = key\n",
    "    utf8_code(c)\n",
    "    print mapping_table\n",
    "    print c in mapping_table\n",
    "    if c in mapping_table:\n",
    "        return mapping_table[c]\n",
    "    else:\n",
    "        return c\n",
    "\n",
    "def map_text_to_tcvn(text):\n",
    "    \"\"\"\n",
    "    @param unicode text: converted to normalize nfc form\n",
    "    \"\"\"\n",
    "    return [map_character_to_tcvn(c) for c in text]\n",
    "\n",
    "def convert_to_tcvn(text):\n",
    "    \"\"\"\n",
    "    @param text: unicode\n",
    "    \"\"\"\n",
    "    text = unicodedata.normalize(\"NFC\", text)\n",
    "    text = map_text_to_tcvn(text)\n",
    "    return text"
   ]
  },
  {
   "cell_type": "code",
   "execution_count": null,
   "metadata": {
    "collapsed": false
   },
   "outputs": [],
   "source": [
    "analyze_characters(convert_to_tcvn(text))"
   ]
  },
  {
   "cell_type": "markdown",
   "metadata": {},
   "source": [
    "### Convert to TCVN 6609"
   ]
  },
  {
   "cell_type": "code",
   "execution_count": null,
   "metadata": {
    "collapsed": false
   },
   "outputs": [],
   "source": [
    "from locale import LC_ALL, setlocale\n",
    "print setlocale(LC_ALL,\"Vietnamese\")\n",
    "\n",
    "from string import letters\n",
    "print letters"
   ]
  },
  {
   "cell_type": "code",
   "execution_count": null,
   "metadata": {
    "collapsed": true
   },
   "outputs": [],
   "source": [
    ""
   ]
  }
 ],
 "metadata": {
  "kernelspec": {
   "display_name": "Python 2",
   "language": "python",
   "name": "python2"
  },
  "language_info": {
   "codemirror_mode": {
    "name": "ipython",
    "version": 2.0
   },
   "file_extension": ".py",
   "mimetype": "text/x-python",
   "name": "python",
   "nbconvert_exporter": "python",
   "pygments_lexer": "ipython2",
   "version": "2.7.13"
  }
 },
 "nbformat": 4,
 "nbformat_minor": 0
}